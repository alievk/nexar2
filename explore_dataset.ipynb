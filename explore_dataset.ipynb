{
 "cells": [
  {
   "cell_type": "code",
   "execution_count": null,
   "metadata": {
    "collapsed": true
   },
   "outputs": [],
   "source": [
    "import numpy as np\n",
    "import cv2\n",
    "import sys\n",
    "import os\n",
    "import shutil\n",
    "import pandas as pd"
   ]
  },
  {
   "cell_type": "code",
   "execution_count": null,
   "metadata": {},
   "outputs": [],
   "source": [
    "# assume Nexar dataset is in 'data' folder\n",
    "data_root = os.path.abspath('./data')\n",
    "train_path = os.path.join(data_root, 'train')\n",
    "train_desc_path = os.path.join(data_root, 'train.csv')\n",
    "train_boxes_path = os.path.join(data_root, 'train_boxes.csv')\n",
    "\n",
    "train_img_paths = os.listdir(train_path)\n",
    "num_train = len(train_img_paths)\n",
    "\n",
    "print 'data root path: ', data_root\n",
    "print 'train path: ', train_path\n",
    "print 'train examples: ', num_train"
   ]
  },
  {
   "cell_type": "code",
   "execution_count": null,
   "metadata": {},
   "outputs": [],
   "source": [
    "names_df = pd.read_csv(train_desc_path)\n",
    "labels_df = pd.read_csv(train_boxes_path)\n",
    "\n",
    "labeled_image_names = list(set(labels_df['image_filename']))\n",
    "missing_image_names = list(set(names_df['image_filename']).difference(labeled_image_names))\n",
    "car_types = list(set(labels_df['label']))\n",
    "\n",
    "print '### train.csv ###'\n",
    "print 'shape: ', names_df.shape\n",
    "print names_df.head()\n",
    "print '\\n### train_boxes.csv ###'\n",
    "print 'shape: ', labels_df.shape\n",
    "print labels_df.head()\n",
    "print \n",
    "print 'car types: ', car_types\n",
    "print 'missing images: ', len(missing_image_names)\n",
    "\n",
    "labels_df.set_index('image_filename', inplace=True)"
   ]
  },
  {
   "cell_type": "code",
   "execution_count": null,
   "metadata": {
    "collapsed": true
   },
   "outputs": [],
   "source": [
    "# randomly select N examples\n",
    "num_rnd_examples = 100\n",
    "rnd_examples_names = np.random.choice(labeled_image_names, num_rnd_examples)\n",
    "\n",
    "colors = {'pickup_truck': (255, 255, 0),\n",
    "          'car': (255, 0, 0),\n",
    "          'van': (0, 255, 0),\n",
    "          'truck': (0, 0, 255),\n",
    "          'bus': (0, 255, 255)}\n",
    "\n",
    "def draw_legend(img):\n",
    "    for i, t in enumerate(colors.keys()):\n",
    "        org = (20, 12 + i * 10)\n",
    "        res = cv2.putText(img, t, org, cv2.FONT_HERSHEY_PLAIN, 1, colors[t], 1)\n",
    "    return res\n",
    "\n",
    "def draw_box(img, x0, y0, x1, y1, label):\n",
    "    x0, y0, x1, y1 = int(x0), int(y0), int(x1), int(y1)\n",
    "    res = cv2.rectangle(img, (x0, y0), (x1, y1), colors[label], 2)\n",
    "    return res\n",
    "\n",
    "# draw boxes on random images and save\n",
    "save_dir = './random_examples'\n",
    "if os.path.exists(save_dir):\n",
    "    shutil.rmtree(save_dir)\n",
    "os.makedirs(save_dir)\n",
    "\n",
    "for fname in rnd_examples_names:\n",
    "    full_path = os.path.join(train_path, fname)\n",
    "    img = cv2.imread(full_path)\n",
    "    \n",
    "    df = labels_df.loc[fname]\n",
    "    if df.ndim > 1: # multiple boxes\n",
    "        for row in df.itertuples():\n",
    "            img = draw_box(img, row.x0, row.y0, row.x1, row.y1, row.label)\n",
    "    else: # one box\n",
    "        img = draw_box(img, df.x0, df.y0, df.x1, df.y1, df.label)\n",
    "        \n",
    "    img = draw_legend(img)\n",
    "        \n",
    "    cv2.imwrite(os.path.join(save_dir, fname), img)"
   ]
  },
  {
   "cell_type": "code",
   "execution_count": null,
   "metadata": {
    "collapsed": true
   },
   "outputs": [],
   "source": []
  }
 ],
 "metadata": {
  "kernelspec": {
   "display_name": "Python 2",
   "language": "python",
   "name": "python2"
  },
  "language_info": {
   "codemirror_mode": {
    "name": "ipython",
    "version": 2
   },
   "file_extension": ".py",
   "mimetype": "text/x-python",
   "name": "python",
   "nbconvert_exporter": "python",
   "pygments_lexer": "ipython2",
   "version": "2.7.12"
  }
 },
 "nbformat": 4,
 "nbformat_minor": 1
}
