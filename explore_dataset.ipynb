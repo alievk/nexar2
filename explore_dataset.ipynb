{
 "cells": [
  {
   "cell_type": "code",
   "execution_count": 90,
   "metadata": {},
   "outputs": [],
   "source": [
    "import numpy as np\n",
    "import cv2\n",
    "import sys\n",
    "import os\n",
    "import shutil\n",
    "import pandas as pd\n",
    "import json\n",
    "import matplotlib.pyplot as plt\n",
    "%matplotlib inline\n",
    "plt.rcParams['figure.figsize'] = (10, 10)"
   ]
  },
  {
   "cell_type": "code",
   "execution_count": 8,
   "metadata": {},
   "outputs": [
    {
     "name": "stdout",
     "output_type": "stream",
     "text": [
      "data root path:  /home/user/nexar/data\n",
      "train path:  /home/user/nexar/data/train\n",
      "train examples:  50000\n"
     ]
    }
   ],
   "source": [
    "# assume Nexar dataset is in 'data' folder\n",
    "data_root = os.path.abspath('./data')\n",
    "train_path = os.path.join(data_root, 'train')\n",
    "train_desc_path = os.path.join(data_root, 'train.csv')\n",
    "train_boxes_path = os.path.join(data_root, 'train_boxes.csv')\n",
    "\n",
    "train_img_paths = os.listdir(train_path)\n",
    "num_train = len(train_img_paths)\n",
    "\n",
    "print 'data root path: ', data_root\n",
    "print 'train path: ', train_path\n",
    "print 'train examples: ', num_train"
   ]
  },
  {
   "cell_type": "code",
   "execution_count": 63,
   "metadata": {},
   "outputs": [
    {
     "name": "stdout",
     "output_type": "stream",
     "text": [
      "### train.csv ###\n",
      "shape:  (50000, 3)\n",
      "                                      image_filename  lighting city\n",
      "0  frame_20f328fa-2459-46d0-97a5-5ae2d6103cb0_000...  Twilight  NYC\n",
      "1  frame_927bde20-f97f-48c2-af30-f9127b6b32ce_000...       Day  NYC\n",
      "2  frame_67012509-f3bd-4175-a9d2-565a7b6bb3c7_000...       Day  NYC\n",
      "3  frame_bd043377-6fb8-407a-95e5-7deb1fbab13a_000...       Day  NYC\n",
      "4  frame_4da1583b-58d0-4893-8149-54541191031d_000...       Day  NYC\n",
      "\n",
      "### train_boxes.csv ###\n",
      "shape:  (134361, 7)\n",
      "                                      image_filename          x0          y0  \\\n",
      "0  frame_817c47b8-22c4-438a-8dc6-0e3f67f299ee_000...  601.600000  270.355731   \n",
      "1  frame_817c47b8-22c4-438a-8dc6-0e3f67f299ee_000...  497.777778  308.774704   \n",
      "2  frame_817c47b8-22c4-438a-8dc6-0e3f67f299ee_000...  449.422222  310.197628   \n",
      "3  frame_a9110bf2-5252-4ec6-83c6-33b65d0fc04d_000...  711.111111  304.505929   \n",
      "4  frame_a9110bf2-5252-4ec6-83c6-33b65d0fc04d_000...  584.533333  307.351779   \n",
      "\n",
      "           x1          y1 label  confidence  \n",
      "0  726.755556  421.185771   van         1.0  \n",
      "1  534.755556  338.656126   car         1.0  \n",
      "2  509.155556  358.577075   car         1.0  \n",
      "3  786.488889  368.537549   car         1.0  \n",
      "4  647.111111  358.577075   car         1.0  \n",
      "\n",
      "missing images:  718\n",
      "car             102140\n",
      "van              18316\n",
      "truck             5342\n",
      "pickup_truck      5100\n",
      "bus               3463\n",
      "Name: label, dtype: int64\n"
     ]
    }
   ],
   "source": [
    "names_df = pd.read_csv(train_desc_path)\n",
    "labels_df = pd.read_csv(train_boxes_path)\n",
    "\n",
    "labeled_image_names = list(set(labels_df['image_filename']))\n",
    "missing_image_names = list(set(names_df['image_filename']).difference(labeled_image_names))\n",
    "\n",
    "print '### train.csv ###'\n",
    "print 'shape: ', names_df.shape\n",
    "print names_df.head()\n",
    "print '\\n### train_boxes.csv ###'\n",
    "print 'shape: ', labels_df.shape\n",
    "print labels_df.head()\n",
    "print \n",
    "print 'missing images: ', len(missing_image_names)\n",
    "print labels_df['label'].value_counts()\n",
    "\n",
    "labels_df.set_index('image_filename', inplace=True)"
   ]
  },
  {
   "cell_type": "markdown",
   "metadata": {},
   "source": [
    "#### Convert DataFrame to ordinary python structures. Save/load annotations."
   ]
  },
  {
   "cell_type": "code",
   "execution_count": 55,
   "metadata": {},
   "outputs": [
    {
     "name": "stdout",
     "output_type": "stream",
     "text": [
      "loaded json file with 49282 entries\n"
     ]
    }
   ],
   "source": [
    "json_fname = 'annotations.json'\n",
    "\n",
    "if os.path.exists(json_fname):\n",
    "    annos = json.load(open(json_fname, 'r'))\n",
    "    print 'loaded json file with %i entries' % len(annos)\n",
    "else:\n",
    "    annos = {}\n",
    "    num_annos = len(labeled_image_names)\n",
    "    for i, fname in enumerate(labeled_image_names):\n",
    "        ann = []\n",
    "\n",
    "        df = labels_df.loc[fname]\n",
    "        if df.ndim > 1: # multiple boxes\n",
    "            for row in df.itertuples():\n",
    "                ann.append((row.x0, row.y0, row.x1, row.y1, row.label))\n",
    "        else: # one box\n",
    "            ann.append((df.x0, df.y0, df.x1, df.y1, df.label))\n",
    "\n",
    "        annos[fname] = ann\n",
    "\n",
    "        if i % 10000 == 0:\n",
    "            print 'processed %i/%i' % (i, num_annos)\n",
    "\n",
    "    json.dump(annos, open(json_fname, 'w'))\n",
    "    print 'saved json file with %i entries' % len(annos)"
   ]
  },
  {
   "cell_type": "markdown",
   "metadata": {},
   "source": [
    "#### Collect some statistics"
   ]
  },
  {
   "cell_type": "code",
   "execution_count": 83,
   "metadata": {},
   "outputs": [],
   "source": [
    "# collect all bounding boxes\n",
    "boxes = np.zeros((0, 4))\n",
    "for anno in annos.values():\n",
    "    boxes_1 = np.zeros((len(anno), 4), dtype=np.float32)\n",
    "    \n",
    "    for i, item in enumerate(anno):\n",
    "        boxes_1[i, :] = item[:4]\n",
    "        \n",
    "    boxes = np.vstack((boxes, boxes_1))\n",
    "\n",
    "diags = np.sqrt((boxes[:, 2] - boxes[:, 0])**2 + (boxes[:, 3] - boxes[:, 1])**2)"
   ]
  },
  {
   "cell_type": "code",
   "execution_count": 99,
   "metadata": {},
   "outputs": [
    {
     "data": {
      "image/png": "[encoded data removed]",
      "text/plain": [
       "<matplotlib.figure.Figure at 0x7f94a39c44d0>"
      ]
     },
     "metadata": {},
     "output_type": "display_data"
    }
   ],
   "source": [
    "plt.figure(figsize=(12,8))\n",
    "plt.hist(diags, 50);\n",
    "plt.xticks(range(0, 1500, 100))\n",
    "plt.xlabel('diagonal, px')\n",
    "plt.title('Box diagonal distribution');"
   ]
  },
  {
   "cell_type": "markdown",
   "metadata": {},
   "source": [
    "#### Save N random examples with annotations"
   ]
  },
  {
   "cell_type": "code",
   "execution_count": 57,
   "metadata": {},
   "outputs": [],
   "source": [
    "# randomly select N examples\n",
    "num_rnd_examples = 100\n",
    "rnd_examples_names = np.random.choice(labeled_image_names, num_rnd_examples)\n",
    "\n",
    "colors = {'pickup_truck': (255, 255, 0),\n",
    "          'car': (255, 0, 0),\n",
    "          'van': (0, 255, 0),\n",
    "          'truck': (0, 0, 255),\n",
    "          'bus': (0, 255, 255)}\n",
    "\n",
    "def draw_legend(img):\n",
    "    for i, t in enumerate(colors.keys()):\n",
    "        org = (20, 12 + i * 10)\n",
    "        res = cv2.putText(img, t, org, cv2.FONT_HERSHEY_PLAIN, 1, colors[t], 1)\n",
    "    return res\n",
    "\n",
    "def draw_box(img, x0, y0, x1, y1, label):\n",
    "    x0, y0, x1, y1 = int(x0), int(y0), int(x1), int(y1)\n",
    "    res = cv2.rectangle(img, (x0, y0), (x1, y1), colors[label], 2)\n",
    "    return res\n",
    "\n",
    "# draw boxes on random images and save\n",
    "save_dir = './random_examples'\n",
    "if os.path.exists(save_dir):\n",
    "    shutil.rmtree(save_dir)\n",
    "os.makedirs(save_dir)\n",
    "\n",
    "for fname in rnd_examples_names:\n",
    "    full_path = os.path.join(train_path, fname)\n",
    "    img = cv2.imread(full_path)\n",
    "    \n",
    "    for item in annos[fname]:\n",
    "        img = draw_box(img, *item)\n",
    "        \n",
    "    img = draw_legend(img)\n",
    "        \n",
    "    cv2.imwrite(os.path.join(save_dir, fname), img)"
   ]
  }
 ],
 "metadata": {
  "kernelspec": {
   "display_name": "Python 2",
   "language": "python",
   "name": "python2"
  },
  "language_info": {
   "codemirror_mode": {
    "name": "ipython",
    "version": 2
   },
   "file_extension": ".py",
   "mimetype": "text/x-python",
   "name": "python",
   "nbconvert_exporter": "python",
   "pygments_lexer": "ipython2",
   "version": "2.7.12"
  }
 },
 "nbformat": 4,
 "nbformat_minor": 1
}
