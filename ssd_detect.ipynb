{
 "cells": [
  {
   "cell_type": "markdown",
   "metadata": {},
   "source": [
    "# Detection with SSD\n",
    "\n",
    "In this example, we will load a SSD model and use it to detect objects."
   ]
  },
  {
   "cell_type": "markdown",
   "metadata": {},
   "source": [
    "### 1. Setup\n",
    "\n",
    "* First, Load necessary libs and set up caffe and caffe_root"
   ]
  },
  {
   "cell_type": "code",
   "execution_count": null,
   "metadata": {
    "collapsed": true
   },
   "outputs": [],
   "source": [
    "import numpy as np\n",
    "import matplotlib.pyplot as plt\n",
    "%matplotlib inline\n",
    "\n",
    "plt.rcParams['figure.figsize'] = (10, 10)\n",
    "plt.rcParams['image.interpolation'] = 'nearest'\n",
    "plt.rcParams['image.cmap'] = 'gray'\n",
    "\n",
    "# Make sure that caffe is on the python path:\n",
    "caffe_root = '/home/user/caffe-ssd-nexar'\n",
    "import os\n",
    "import sys\n",
    "sys.path.insert(0, os.path.join(caffe_root, 'python'))"
   ]
  },
  {
   "cell_type": "code",
   "execution_count": null,
   "metadata": {
    "collapsed": true
   },
   "outputs": [],
   "source": [
    "!nvidia-smi"
   ]
  },
  {
   "cell_type": "code",
   "execution_count": null,
   "metadata": {
    "collapsed": true
   },
   "outputs": [],
   "source": [
    "import caffe\n",
    "caffe.set_device(1)\n",
    "caffe.set_mode_gpu()"
   ]
  },
  {
   "cell_type": "markdown",
   "metadata": {},
   "source": [
    "* Disable scrolling output"
   ]
  },
  {
   "cell_type": "code",
   "execution_count": null,
   "metadata": {},
   "outputs": [],
   "source": [
    "%%javascript\n",
    "IPython.OutputArea.prototype._should_scroll = function(lines) {\n",
    "    return false;\n",
    "}"
   ]
  },
  {
   "cell_type": "markdown",
   "metadata": {},
   "source": [
    "* Load LabelMap."
   ]
  },
  {
   "cell_type": "code",
   "execution_count": null,
   "metadata": {
    "collapsed": true
   },
   "outputs": [],
   "source": [
    "from google.protobuf import text_format\n",
    "from caffe.proto import caffe_pb2\n",
    "\n",
    "# load Nexar labels\n",
    "labelmap_file = os.path.join(caffe_root, 'data/nexar2/labelmap_s.prototxt')\n",
    "file = open(labelmap_file, 'r')\n",
    "labelmap = caffe_pb2.LabelMap()\n",
    "text_format.Merge(str(file.read()), labelmap)\n",
    "\n",
    "def get_labelname(labelmap, labels):\n",
    "    num_labels = len(labelmap.item)\n",
    "    labelnames = []\n",
    "    if type(labels) is not list:\n",
    "        labels = [labels]\n",
    "    for label in labels:\n",
    "        found = False\n",
    "        for i in xrange(0, num_labels):\n",
    "            if label == labelmap.item[i].label:\n",
    "                found = True\n",
    "                labelnames.append(labelmap.item[i].display_name)\n",
    "                break\n",
    "        assert found == True\n",
    "    return labelnames"
   ]
  },
  {
   "cell_type": "markdown",
   "metadata": {},
   "source": [
    "* Load the net in the test phase for inference, and configure input preprocessing."
   ]
  },
  {
   "cell_type": "code",
   "execution_count": null,
   "metadata": {
    "collapsed": true
   },
   "outputs": [],
   "source": [
    "model_def = 'caffe/models/VGGNet/nexar2/SSD_600x600/deploy.prototxt'\n",
    "model_weights = 'caffe/models/VGGNet/nexar2/SSD_600x600/VGG_nexar2_SSD_600x600_iter_10000.caffemodel'\n",
    "#model_def = '/home/user/public/nexar/SSD/VGG16/13/deploy.prototxt'\n",
    "#model_weights = '/home/user/public/nexar/SSD/VGG16/13/VGG_nexar2_SSD_600x600_iter_10000.caffemodel'\n",
    "\n",
    "net = None\n",
    "net = caffe.Net(model_def,      # defines the structure of the model\n",
    "                model_weights,  # contains the trained weights\n",
    "                caffe.TEST)     # use test mode (e.g., don't perform dropout)\n",
    "\n",
    "input_shape = None\n",
    "\n",
    "if input_shape is not None:\n",
    "    net.blobs['data'].reshape(1, 3, input_shape[0], input_shape[1])\n",
    "\n",
    "# input preprocessing: 'data' is the name of the input blob == net.inputs[0]\n",
    "transformer = caffe.io.Transformer({'data': net.blobs['data'].data.shape})\n",
    "transformer.set_transpose('data', (2, 0, 1))\n",
    "transformer.set_mean('data', np.array([104,117,123])) # mean pixel\n",
    "transformer.set_raw_scale('data', 255)  # the reference model operates on images in [0,255] range instead of [0,1]\n",
    "transformer.set_channel_swap('data', (2,1,0))  # the reference model has channels in BGR order instead of RGB"
   ]
  },
  {
   "cell_type": "markdown",
   "metadata": {},
   "source": [
    "### 2. SSD detection"
   ]
  },
  {
   "cell_type": "markdown",
   "metadata": {},
   "source": [
    "* Load an image."
   ]
  },
  {
   "cell_type": "code",
   "execution_count": null,
   "metadata": {},
   "outputs": [],
   "source": [
    "image = caffe.io.load_image('examples/8.jpg')\n",
    "plt.imshow(image)\n",
    "plt.axis('off');"
   ]
  },
  {
   "cell_type": "markdown",
   "metadata": {},
   "source": [
    "* Run the net and examine the top_k results"
   ]
  },
  {
   "cell_type": "code",
   "execution_count": null,
   "metadata": {},
   "outputs": [],
   "source": [
    "transformed_image = transformer.preprocess('data', image)\n",
    "net.blobs['data'].data[...] = transformed_image\n",
    "\n",
    "# Forward pass.\n",
    "detections = net.forward()['detection_out']\n",
    "\n",
    "# Parse the outputs.\n",
    "det_conf = detections[0,0,:,2]\n",
    "det_xmin = detections[0,0,:,3]\n",
    "det_ymin = detections[0,0,:,4]\n",
    "det_xmax = detections[0,0,:,5]\n",
    "det_ymax = detections[0,0,:,6]\n",
    "\n",
    "conf_thresh = 0.3\n",
    "\n",
    "# Get detections with confidence higher than some threshold.\n",
    "top_indices = []\n",
    "for i in range(det_conf.shape[0]):\n",
    "    if det_conf[i] >= conf_thresh:\n",
    "        top_indices.append(i)\n",
    "\n",
    "top_conf = det_conf[top_indices]\n",
    "top_xmin = det_xmin[top_indices]\n",
    "top_ymin = det_ymin[top_indices]\n",
    "top_xmax = det_xmax[top_indices]\n",
    "top_ymax = det_ymax[top_indices]\n",
    "\n",
    "# Plot the boxes\n",
    "\n",
    "plt.figure(figsize=(15,10))\n",
    "plt.imshow(image)\n",
    "plt.axis('off')\n",
    "currentAxis = plt.gca()\n",
    "\n",
    "for i in xrange(top_conf.shape[0]):\n",
    "    xmin = int(round(top_xmin[i] * image.shape[1]))\n",
    "    ymin = int(round(top_ymin[i] * image.shape[0]))\n",
    "    xmax = int(round(top_xmax[i] * image.shape[1]))\n",
    "    ymax = int(round(top_ymax[i] * image.shape[0]))\n",
    "    score = top_conf[i]\n",
    "    display_txt = '%s: %.2f'%('car', score)\n",
    "    coords = (xmin, ymin), xmax-xmin+1, ymax-ymin+1\n",
    "    currentAxis.add_patch(plt.Rectangle(*coords, fill=False, edgecolor=[1,0,0], linewidth=2))\n",
    "    currentAxis.text(xmin, ymin, display_txt, bbox={'facecolor':[1,0,0], 'alpha':0.5})\n",
    "    \n",
    "    #print '%s: %.2f'%(label_name, score)"
   ]
  },
  {
   "cell_type": "markdown",
   "metadata": {},
   "source": [
    "## Evaluate on Nexar validation set"
   ]
  },
  {
   "cell_type": "code",
   "execution_count": null,
   "metadata": {
    "collapsed": true
   },
   "outputs": [],
   "source": [
    "import pandas as pd\n",
    "from collections import defaultdict\n",
    "\n",
    "# path to the validation images folder\n",
    "val_image_root = os.path.abspath('./data/train')\n",
    "\n",
    "val_anno_df = pd.read_csv('val.csv')"
   ]
  },
  {
   "cell_type": "code",
   "execution_count": null,
   "metadata": {},
   "outputs": [],
   "source": [
    "max_val_num = 0\n",
    "\n",
    "val_names = list(set(val_anno_df['image_filename']))\n",
    "\n",
    "det_dict = defaultdict(list)\n",
    "\n",
    "conf_thresh = 0.05\n",
    "\n",
    "coord_func = lambda x: round(x)\n",
    "\n",
    "max_val_num = max_val_num if max_val_num > 0 else len(val_names)\n",
    "for iname in range(max_val_num):\n",
    "    # load & transform image\n",
    "    name = val_names[iname]\n",
    "    image_path = os.path.join(val_image_root, name)\n",
    "    image = caffe.io.load_image(image_path)\n",
    "    transformed_image = transformer.preprocess('data', image)\n",
    "    \n",
    "    # detect\n",
    "    net.blobs['data'].data[...] = transformed_image\n",
    "    detections = net.forward()['detection_out']\n",
    "    \n",
    "    det_conf = detections[0,0,:,2]\n",
    "    det_xmin = detections[0,0,:,3]\n",
    "    det_ymin = detections[0,0,:,4]\n",
    "    det_xmax = detections[0,0,:,5]\n",
    "    det_ymax = detections[0,0,:,6]\n",
    "\n",
    "    conf_mask = det_conf >= conf_thresh\n",
    "\n",
    "    h, w = image.shape[:2]\n",
    "    for ind in np.nonzero(conf_mask)[0]:\n",
    "        det_dict['image_filename'].append(name)\n",
    "        x0 = coord_func(w * det_xmin[ind])\n",
    "        y0 = coord_func(h * det_ymin[ind])\n",
    "        x1 = coord_func(w * det_xmax[ind])\n",
    "        y1 = coord_func(h * det_ymax[ind])\n",
    "        det_dict['x0'].append(x0)\n",
    "        det_dict['y0'].append(y0)\n",
    "        det_dict['x1'].append(x1)\n",
    "        det_dict['y1'].append(y1)        \n",
    "        det_dict['label'].append('car')\n",
    "        det_dict['confidence'].append(det_conf[ind])\n",
    "        \n",
    "    if iname > 0 and iname % 100 == 0: \n",
    "        print('%s/%s'%(iname,max_val_num))\n",
    "        \n",
    "    if iname == max_val_num - 1:\n",
    "        break\n",
    "        \n",
    "val_det_df = pd.DataFrame(det_dict, columns=['image_filename','x0','y0','x1','y1','label','confidence'])\n",
    "val_det_df.to_csv('val_det.csv', index=False)\n",
    "\n",
    "print('Done')"
   ]
  },
  {
   "cell_type": "code",
   "execution_count": null,
   "metadata": {},
   "outputs": [],
   "source": [
    "!python challenge2-evaluation/evaluate/eval_challenge.py -g ./val.csv -d ./val_det.csv"
   ]
  },
  {
   "cell_type": "code",
   "execution_count": null,
   "metadata": {
    "collapsed": true
   },
   "outputs": [],
   "source": []
  }
 ],
 "metadata": {
  "kernelspec": {
   "display_name": "Python 2",
   "language": "python",
   "name": "python2"
  },
  "language_info": {
   "codemirror_mode": {
    "name": "ipython",
    "version": 2
   },
   "file_extension": ".py",
   "mimetype": "text/x-python",
   "name": "python",
   "nbconvert_exporter": "python",
   "pygments_lexer": "ipython2",
   "version": "2.7.12"
  }
 },
 "nbformat": 4,
 "nbformat_minor": 1
}
